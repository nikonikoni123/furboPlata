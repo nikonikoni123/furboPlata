{
 "cells": [
  {
   "cell_type": "code",
   "execution_count": 13,
   "metadata": {},
   "outputs": [],
   "source": [
    "import ScraperFC as src\n",
    "import pandas as pd\n",
    "import matplotlib.pyplot as plt\n",
    "from mplsoccer import VerticalPitch\n",
    "import seaborn as sns\n",
    "import statistics\n",
    "import numpy as np\n",
    "\n",
    "#este codigo escrapea la pagina de sofascore\n",
    "\n",
    "#ideal crear set de datos propios para no depender\n",
    "\n",
    "src = src.Sofascore()"
   ]
  },
  {
   "cell_type": "code",
   "execution_count": 14,
   "metadata": {},
   "outputs": [],
   "source": [
    "#Limpiador de links, Usalo y veras la magia\n",
    "def link_cleaner(link):\n",
    "    str = link.replace(\"id:\",\"\")\n",
    "    print(\"* \", str)\n",
    "    return str "
   ]
  },
  {
   "cell_type": "code",
   "execution_count": 15,
   "metadata": {},
   "outputs": [],
   "source": [
    "#Implementacion ERIKFORA12\n",
    "\n",
    "'''\n",
    "ADVERTENCIA!!.\n",
    "El ID del link es solo codigo de liga # ID_partida.\n",
    "\n",
    "ejemplo:\n",
    "  -link original: https://www.sofascore.com/granada-cadiz/NObsEAn#id:11369454\n",
    "  -NObsEAn  #  11369454 -> sin espacios\n",
    "  -quedara así: NObsEAn#11369454\n",
    "\n",
    "- Sí lo pone de otra manera fallará.\n",
    "'''\n",
    "#se definio la funcion para facilitar las iteraciones\n",
    "def scrap_corners(match_link,index, name, arr): \n",
    "   import traceback\n",
    "\n",
    "   #Datos\n",
    "   link = link_cleaner(match_link)\n",
    " \n",
    "   try:\n",
    "     data = src.get_general_match_stats(link)\n",
    "   except:\n",
    "     traceback.print_exc()  \n",
    "   #Nombre equipos\n",
    "   home = src.get_team_names(link)[0]\n",
    "   visitor = src.get_team_names(link)[1]\n",
    "\n",
    "   #tiros de esquina\n",
    "   home_kicks = data.iloc[index].homeValue\n",
    "   visitor_kicks = data.iloc[index].awayValue\n",
    "   \n",
    "   print(home,\": \", int(home_kicks))\n",
    "   print(visitor,\": \",int(visitor_kicks))\n",
    "\n",
    "   if home == name:\n",
    "      print(\"team encontrado\")\n",
    "      arr.append(home_kicks)\n",
    "   elif visitor == name:\n",
    "      print(\"team encontrado\")\n",
    "      arr.append(visitor_kicks)\n",
    "   else:\n",
    "     print(repr(\"Name lost\"))\n",
    "     \n",
    "\n",
    "def scrap_corners_total(match_link,index, arr): \n",
    "   import traceback\n",
    "\n",
    "   #Datos\n",
    "   link = link_cleaner(match_link)\n",
    " \n",
    "   try:\n",
    "     data = src.get_general_match_stats(link)\n",
    "   except:\n",
    "     traceback.print_exc()  \n",
    "   #Nombre equipos\n",
    "   home = src.get_team_names(link)[0]\n",
    "   visitor = src.get_team_names(link)[1]\n",
    "\n",
    "   #tiros de esquina\n",
    "   home_kicks = data.iloc[index].homeValue\n",
    "   visitor_kicks = data.iloc[index].awayValue\n",
    "   \n",
    "   print(home,\": \", int(home_kicks))\n",
    "   print(visitor,\": \",int(visitor_kicks))\n",
    "   \n",
    "   arr.append(home_kicks + visitor_kicks)"
   ]
  },
  {
   "cell_type": "code",
   "execution_count": 16,
   "metadata": {},
   "outputs": [
    {
     "name": "stdout",
     "output_type": "stream",
     "text": [
      "*  https://www.sofascore.com/panama-costa-rica/gVbsodc#11816828\n",
      "Panama :  1\n",
      "Costa Rica :  2\n",
      "*  https://www.sofascore.com/panama-costa-rica/gVbsodc#11816700\n",
      "Costa Rica :  19\n",
      "Panama :  12\n",
      "*  https://www.sofascore.com/saudi-arabia-costa-rica/gVbsJWb#11590235\n"
     ]
    }
   ],
   "source": [
    "esquinas = []\n",
    "links_partidos = [\"https://www.sofascore.com/panama-costa-rica/gVbsodc#id:11816828\",\n",
    "                  \"https://www.sofascore.com/panama-costa-rica/gVbsodc#id:11816700\",\n",
    "                  \"https://www.sofascore.com/saudi-arabia-costa-rica/gVbsJWb#id:11590235\"]\n",
    "\n",
    "\n",
    "for links in links_partidos:\n",
    "  scrap_corners_total(links, 6, esquinas)\n",
    "\n",
    "suma_esquinas = 0\n",
    "print(esquinas)\n",
    "\n",
    "\n",
    "for valor in esquinas:\n",
    "    suma_esquinas += valor\n",
    "\n",
    "promedio = suma_esquinas/ len(esquinas)\n",
    "\n",
    "print(promedio)"
   ]
  },
  {
   "cell_type": "code",
   "execution_count": null,
   "metadata": {},
   "outputs": [
    {
     "ename": "NameError",
     "evalue": "name 'scrap_corners_total' is not defined",
     "output_type": "error",
     "traceback": [
      "\u001b[1;31m---------------------------------------------------------------------------\u001b[0m",
      "\u001b[1;31mNameError\u001b[0m                                 Traceback (most recent call last)",
      "Cell \u001b[1;32mIn[2], line 8\u001b[0m\n\u001b[0;32m      2\u001b[0m links_partidos2 \u001b[38;5;241m=\u001b[39m [\u001b[38;5;124m\"\u001b[39m\u001b[38;5;124mhttps://www.sofascore.com/martinique-el-salvador/AWbsKjt#id:11622178\u001b[39m\u001b[38;5;124m\"\u001b[39m,\n\u001b[0;32m      3\u001b[0m                   \u001b[38;5;124m\"\u001b[39m\u001b[38;5;124mhttps://www.sofascore.com/martinique-el-salvador/AWbsKjt#id:11436086\u001b[39m\u001b[38;5;124m\"\u001b[39m,\n\u001b[0;32m      4\u001b[0m                   \u001b[38;5;124m\"\u001b[39m\u001b[38;5;124mhttps://www.sofascore.com/trinidad-and-tobago-el-salvador/AWbsmdc#id:11436063\u001b[39m\u001b[38;5;124m\"\u001b[39m]\n\u001b[0;32m      7\u001b[0m \u001b[38;5;28;01mfor\u001b[39;00m link \u001b[38;5;129;01min\u001b[39;00m links_partidos2:\n\u001b[1;32m----> 8\u001b[0m   \u001b[43mscrap_corners_total\u001b[49m(link, \u001b[38;5;241m6\u001b[39m, esquina)\n\u001b[0;32m     10\u001b[0m suma_esquinas \u001b[38;5;241m=\u001b[39m \u001b[38;5;241m0\u001b[39m\n\u001b[0;32m     11\u001b[0m \u001b[38;5;28mprint\u001b[39m(esquina)\n",
      "\u001b[1;31mNameError\u001b[0m: name 'scrap_corners_total' is not defined"
     ]
    }
   ],
   "source": [
    "\n",
    "esquina = []\n",
    "links_partidos2 = [\"https://www.sofascore.com/martinique-el-salvador/AWbsKjt#id:11622178\",\n",
    "                  \"https://www.sofascore.com/martinique-el-salvador/AWbsKjt#id:11436086\",\n",
    "                  \"https://www.sofascore.com/trinidad-and-tobago-el-salvador/AWbsmdc#id:11436063\"]\n",
    "\n",
    "\n",
    "for link in links_partidos2:\n",
    "  scrap_corners_total(link, 6, esquina)\n",
    "\n",
    "suma_esquinas = 0\n",
    "print(esquina)\n",
    "\n",
    "\n",
    "for valor in esquina:\n",
    "    suma_esquinas += valor\n",
    "    \n",
    "\n",
    "\n",
    "promedio2 = suma_esquinas/ len(esquina)\n",
    "\n",
    "print(promedio2)"
   ]
  },
  {
   "cell_type": "code",
   "execution_count": null,
   "metadata": {},
   "outputs": [
    {
     "ename": "NameError",
     "evalue": "name 'esquina' is not defined",
     "output_type": "error",
     "traceback": [
      "\u001b[1;31m---------------------------------------------------------------------------\u001b[0m",
      "\u001b[1;31mNameError\u001b[0m                                 Traceback (most recent call last)",
      "Cell \u001b[1;32mIn[1], line 1\u001b[0m\n\u001b[1;32m----> 1\u001b[0m datos \u001b[38;5;241m=\u001b[39m \u001b[38;5;28mlen\u001b[39m(\u001b[43mesquina\u001b[49m)\n\u001b[0;32m      2\u001b[0m cantidad \u001b[38;5;241m=\u001b[39m []\n\u001b[0;32m      4\u001b[0m \u001b[38;5;28;01mwhile\u001b[39;00m datos \u001b[38;5;241m>\u001b[39m \u001b[38;5;241m0\u001b[39m:\n",
      "\u001b[1;31mNameError\u001b[0m: name 'esquina' is not defined"
     ]
    }
   ],
   "source": [
    "datos = len(esquina)\n",
    "cantidad = []\n",
    "\n",
    "while datos > 0:\n",
    "    cantidad.append(datos)\n",
    "    datos - 1\n",
    "\n",
    "\n",
    "cantidad\n",
    "    "
   ]
  }
 ],
 "metadata": {
  "kernelspec": {
   "display_name": "Python 3",
   "language": "python",
   "name": "python3"
  },
  "language_info": {
   "codemirror_mode": {
    "name": "ipython",
    "version": 3
   },
   "file_extension": ".py",
   "mimetype": "text/x-python",
   "name": "python",
   "nbconvert_exporter": "python",
   "pygments_lexer": "ipython3",
   "version": "3.12.0"
  }
 },
 "nbformat": 4,
 "nbformat_minor": 2
}
