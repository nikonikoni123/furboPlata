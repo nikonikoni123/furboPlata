{
 "cells": [
  {
   "cell_type": "code",
   "execution_count": 1,
   "id": "8600dd61",
   "metadata": {},
   "outputs": [
    {
     "name": "stderr",
     "output_type": "stream",
     "text": [
      "C:\\Users\\eriki\\AppData\\Local\\Packages\\PythonSoftwareFoundation.Python.3.12_qbz5n2kfra8p0\\LocalCache\\local-packages\\Python312\\site-packages\\tqdm\\auto.py:21: TqdmWarning: IProgress not found. Please update jupyter and ipywidgets. See https://ipywidgets.readthedocs.io/en/stable/user_install.html\n",
      "  from .autonotebook import tqdm as notebook_tqdm\n"
     ]
    }
   ],
   "source": [
    "import ScraperFC as src\n",
    "import pandas as pd\n",
    "import matplotlib.pyplot as plt\n",
    "from mplsoccer import VerticalPitch\n",
    "import seaborn as sns\n",
    "\n",
    "#este codigo escrapea la pagina de sofascore\n",
    "\n",
    "#ideal crear set de datos propios para no depender"
   ]
  },
  {
   "cell_type": "code",
   "execution_count": 2,
   "id": "e384fba0",
   "metadata": {},
   "outputs": [],
   "source": [
    "src = src.Sofascore()"
   ]
  },
  {
   "cell_type": "code",
   "execution_count": 3,
   "id": "2b8bea04",
   "metadata": {},
   "outputs": [
    {
     "data": {
      "text/plain": [
       "<ScraperFC.Sofascore.Sofascore at 0x298a344b9e0>"
      ]
     },
     "execution_count": 3,
     "metadata": {},
     "output_type": "execute_result"
    }
   ],
   "source": [
    "src"
   ]
  },
  {
   "cell_type": "code",
   "execution_count": null,
   "id": "2f2cf52f",
   "metadata": {},
   "outputs": [
    {
     "ename": "",
     "evalue": "",
     "output_type": "error",
     "traceback": [
      "\u001b[1;31mFailed to start the Kernel. \n",
      "\u001b[1;31mUnable to start Kernel 'Python' due to a timeout waiting for the ports to get used. \n",
      "\u001b[1;31mView Jupyter <a href='command:jupyter.viewOutput'>log</a> for further details."
     ]
    }
   ],
   "source": [
    "data = src.scrape_league_stats('23/24','EPL')\n",
    "data"
   ]
  },
  {
   "cell_type": "code",
   "execution_count": null,
   "id": "625dbba8",
   "metadata": {},
   "outputs": [
    {
     "ename": "",
     "evalue": "",
     "output_type": "error",
     "traceback": [
      "\u001b[1;31mFailed to start the Kernel. \n",
      "\u001b[1;31mUnable to start Kernel 'Python' due to a timeout waiting for the ports to get used. \n",
      "\u001b[1;31mView Jupyter <a href='command:jupyter.viewOutput'>log</a> for further details."
     ]
    }
   ],
   "source": [
    "data.columns"
   ]
  },
  {
   "cell_type": "code",
   "execution_count": null,
   "id": "ddfaad3e",
   "metadata": {},
   "outputs": [
    {
     "ename": "",
     "evalue": "",
     "output_type": "error",
     "traceback": [
      "\u001b[1;31mFailed to start the Kernel. \n",
      "\u001b[1;31mUnable to start Kernel 'Python' due to a timeout waiting for the ports to get used. \n",
      "\u001b[1;31mView Jupyter <a href='command:jupyter.viewOutput'>log</a> for further details."
     ]
    }
   ],
   "source": [
    "data.to_csv()"
   ]
  },
  {
   "cell_type": "code",
   "execution_count": null,
   "id": "f72276cc",
   "metadata": {},
   "outputs": [
    {
     "ename": "",
     "evalue": "",
     "output_type": "error",
     "traceback": [
      "\u001b[1;31mFailed to start the Kernel. \n",
      "\u001b[1;31mUnable to start Kernel 'Python' due to a timeout waiting for the ports to get used. \n",
      "\u001b[1;31mView Jupyter <a href='command:jupyter.viewOutput'>log</a> for further details."
     ]
    }
   ],
   "source": [
    "df = src.scrape_league_stats('23/24','EPL',accumulation='per90')\n",
    "df.head()"
   ]
  },
  {
   "cell_type": "code",
   "execution_count": null,
   "id": "8f410153",
   "metadata": {},
   "outputs": [
    {
     "ename": "",
     "evalue": "",
     "output_type": "error",
     "traceback": [
      "\u001b[1;31mFailed to start the Kernel. \n",
      "\u001b[1;31mUnable to start Kernel 'Python' due to a timeout waiting for the ports to get used. \n",
      "\u001b[1;31mView Jupyter <a href='command:jupyter.viewOutput'>log</a> for further details."
     ]
    }
   ],
   "source": [
    "grafo = df.groupby('team').expectedGoals.mean().sort_values(ascending=False)\n",
    "grafo.plot.bar()"
   ]
  },
  {
   "cell_type": "code",
   "execution_count": null,
   "id": "97bb3b11",
   "metadata": {},
   "outputs": [
    {
     "ename": "",
     "evalue": "",
     "output_type": "error",
     "traceback": [
      "\u001b[1;31mFailed to start the Kernel. \n",
      "\u001b[1;31mUnable to start Kernel 'Python' due to a timeout waiting for the ports to get used. \n",
      "\u001b[1;31mView Jupyter <a href='command:jupyter.viewOutput'>log</a> for further details."
     ]
    }
   ],
   "source": [
    "#eliminar al link original el texto \"id:\" https://www.sofascore.com/es/millonarios-junior-barranquilla/fxcsrxc#id:11913838\n",
    "link = 'https://www.sofascore.com/es/millonarios-junior-barranquilla/fxcsrxc#11913838'\n",
    "win = src.match_momentum(link)"
   ]
  },
  {
   "cell_type": "code",
   "execution_count": null,
   "id": "d3d6f5bb",
   "metadata": {},
   "outputs": [
    {
     "ename": "",
     "evalue": "",
     "output_type": "error",
     "traceback": [
      "\u001b[1;31mFailed to start the Kernel. \n",
      "\u001b[1;31mUnable to start Kernel 'Python' due to a timeout waiting for the ports to get used. \n",
      "\u001b[1;31mView Jupyter <a href='command:jupyter.viewOutput'>log</a> for further details."
     ]
    }
   ],
   "source": [
    "win_local = win[win['value'] > 0]\n",
    "win_visitante = win[win['value'] < 0]\n",
    "\n",
    "plt.bar(win_local.minute , win_local.value,color='red')\n",
    "plt.bar(win_visitante.minute , win_visitante.value,color='blue')"
   ]
  },
  {
   "cell_type": "code",
   "execution_count": null,
   "id": "669f0b4d",
   "metadata": {},
   "outputs": [
    {
     "ename": "",
     "evalue": "",
     "output_type": "error",
     "traceback": [
      "\u001b[1;31mFailed to start the Kernel. \n",
      "\u001b[1;31mUnable to start Kernel 'Python' due to a timeout waiting for the ports to get used. \n",
      "\u001b[1;31mView Jupyter <a href='command:jupyter.viewOutput'>log</a> for further details."
     ]
    }
   ],
   "source": [
    "dato_partido = src.get_general_match_stats(link)\n",
    "dato_partido\n",
    "\n"
   ]
  },
  {
   "cell_type": "code",
   "execution_count": null,
   "id": "2e062783",
   "metadata": {},
   "outputs": [
    {
     "ename": "",
     "evalue": "",
     "output_type": "error",
     "traceback": [
      "\u001b[1;31mFailed to start the Kernel. \n",
      "\u001b[1;31mUnable to start Kernel 'Python' due to a timeout waiting for the ports to get used. \n",
      "\u001b[1;31mView Jupyter <a href='command:jupyter.viewOutput'>log</a> for further details."
     ]
    }
   ],
   "source": [
    "src.get_team_names(link)"
   ]
  },
  {
   "cell_type": "code",
   "execution_count": null,
   "id": "2c77b201",
   "metadata": {},
   "outputs": [
    {
     "ename": "",
     "evalue": "",
     "output_type": "error",
     "traceback": [
      "\u001b[1;31mFailed to start the Kernel. \n",
      "\u001b[1;31mUnable to start Kernel 'Python' due to a timeout waiting for the ports to get used. \n",
      "\u001b[1;31mView Jupyter <a href='command:jupyter.viewOutput'>log</a> for further details."
     ]
    }
   ],
   "source": [
    "jugadores = src.get_players_match_stats(link)\n",
    "jugadores[0]"
   ]
  },
  {
   "cell_type": "code",
   "execution_count": null,
   "id": "87742d1a",
   "metadata": {},
   "outputs": [
    {
     "ename": "",
     "evalue": "",
     "output_type": "error",
     "traceback": [
      "\u001b[1;31mFailed to start the Kernel. \n",
      "\u001b[1;31mUnable to start Kernel 'Python' due to a timeout waiting for the ports to get used. \n",
      "\u001b[1;31mView Jupyter <a href='command:jupyter.viewOutput'>log</a> for further details."
     ]
    }
   ],
   "source": [
    "prom_position =src.get_players_average_positions(link)\n",
    "\n",
    "fig, ax = plt.subplots()\n",
    "\n",
    "pitch = VerticalPitch(pitch_type='opta')\n",
    "pitch.draw(ax=ax)\n",
    "pitch.scatter(prom_position[0].averageX, prom_position[0].averageY, ax=ax)\n",
    "\n",
    "\n",
    "prom_position[0]"
   ]
  },
  {
   "cell_type": "code",
   "execution_count": null,
   "metadata": {},
   "outputs": [
    {
     "ename": "",
     "evalue": "",
     "output_type": "error",
     "traceback": [
      "\u001b[1;31mFailed to start the Kernel. \n",
      "\u001b[1;31mUnable to start Kernel 'Python' due to a timeout waiting for the ports to get used. \n",
      "\u001b[1;31mView Jupyter <a href='command:jupyter.viewOutput'>log</a> for further details."
     ]
    }
   ],
   "source": [
    "mapa = src.get_player_heatmap(link, player='Stiven Vega')\n",
    "fig, ax = plt.subplots()\n",
    "\n",
    "cmap = 'hot'\n",
    "pitch = VerticalPitch(pitch_type='opta')\n",
    "pitch.draw(ax=ax)\n",
    "pitch.kdeplot(mapa.x,mapa.y,ax=ax,\n",
    "              levels=100,\n",
    "              fill=True,\n",
    "              zorder=-1,\n",
    "              shade_lowest=True,\n",
    "              cmap='OrRd')\n"
   ]
  },
  {
   "cell_type": "markdown",
   "id": "e1824a90",
   "metadata": {},
   "source": [
    "## Link Cleaner, llego aquí!!!\n",
    "\n",
    "usa el maravilloso link cleaner para obtener datos sin errores en el scraper"
   ]
  },
  {
   "cell_type": "code",
   "execution_count": 4,
   "id": "7b32b260",
   "metadata": {},
   "outputs": [],
   "source": [
    "#Limpiador de links, Usalo y veras la magia\n",
    "def link_cleaner(link):\n",
    "    str = link.replace(\"id:\",\"\")\n",
    "    print(\"* \", str)\n",
    "    return str \n"
   ]
  },
  {
   "cell_type": "markdown",
   "id": "4981fdef",
   "metadata": {},
   "source": [
    "## DataFrames:\n",
    "El escraper publica los datos en dataframes, la funcion iloc se usa para manejar los datos como si fuera un array, sin embargo puede manejarlo como objeto, ya que es un array de objetos."
   ]
  },
  {
   "cell_type": "code",
   "execution_count": 6,
   "id": "c1edda28",
   "metadata": {},
   "outputs": [],
   "source": [
    "#Implementacion ERIKFORA12\n",
    "\n",
    "'''\n",
    "ADVERTENCIA!!.\n",
    "El ID del link es solo codigo de liga # ID_partida.\n",
    "\n",
    "ejemplo:\n",
    "  -link original: https://www.sofascore.com/granada-cadiz/NObsEAn#id:11369454\n",
    "  -NObsEAn  #  11369454 -> sin espacios\n",
    "  -quedara así: NObsEAn#11369454\n",
    "\n",
    "- Sí lo pone de otra manera fallará.\n",
    "'''\n",
    "#se definio la funcion para facilitar las iteraciones\n",
    "def scrap_corners(match_link,index, name, arr): \n",
    "   import traceback\n",
    "\n",
    "   #Datos\n",
    "   link = link_cleaner(match_link)\n",
    " \n",
    "   try:\n",
    "     data = src.get_general_match_stats(link)\n",
    "   except:\n",
    "     traceback.print_exc()  \n",
    "   #Nombre equipos\n",
    "   home = src.get_team_names(link)[0]\n",
    "   visitor = src.get_team_names(link)[1]\n",
    "\n",
    "   #tiros de esquina\n",
    "   home_kicks = data.iloc[index].homeValue\n",
    "   visitor_kicks = data.iloc[index].awayValue\n",
    "   \n",
    "   print(home,\": \", int(home_kicks))\n",
    "   print(visitor,\": \",int(visitor_kicks))\n",
    "\n",
    "   if home == name:\n",
    "      arr.append(home_kicks)\n",
    "   elif visitor == name:\n",
    "      arr.append(visitor_kicks)\n",
    "   else:\n",
    "     print(repr(\"Name lost\"))\n",
    "     "
   ]
  },
  {
   "cell_type": "code",
   "execution_count": 13,
   "id": "c9a677df",
   "metadata": {},
   "outputs": [
    {
     "name": "stdout",
     "output_type": "stream",
     "text": [
      "*  https://www.sofascore.com/independiente-santa-fe-deportes-tolima/lxcsqxc#11435080\n",
      "Deportes Tolima :  3\n",
      "Independiente Santa Fe :  0\n",
      "*  https://www.sofascore.com/millonarios-independiente-santa-fe/qxcsrxc#11435086\n",
      "Independiente Santa Fe :  2\n",
      "Millonarios :  0\n",
      "*  https://www.sofascore.com/independiente-santa-fe-atletico-huila/excsqxc#11748904\n",
      "Atlético Huila :  5\n",
      "Independiente Santa Fe :  4\n",
      "*  https://www.sofascore.com/once-caldas-independiente-santa-fe/qxcstxc#11783345\n",
      "Independiente Santa Fe :  1\n",
      "Once Caldas :  2\n",
      "*  https://www.sofascore.com/independiente-santa-fe-envigado-fc/oxcsqxc#11920629\n",
      "Independiente Santa Fe :  0\n",
      "Envigado FC :  1\n",
      "[0, 2, 4, 1, 0]\n",
      "promedio:  1.4\n",
      "minimo: 0\n",
      "maxmimo: 4\n",
      "*  https://www.sofascore.com/deportivo-la-equidad-deportivo-pasto/nxcsAOc#11435042\n",
      "Deportivo La Equidad :  3\n",
      "Deportivo Pasto :  1\n",
      "*  https://www.sofascore.com/deportivo-la-equidad-deportivo-pereira/jxcsAOc#11435070\n",
      "Deportivo Pereira :  1\n",
      "Deportivo La Equidad :  3\n",
      "*  https://www.sofascore.com/rionegro-aguilas-doradas-deportivo-la-equidad/AOcsUou#11435084\n",
      "Deportivo La Equidad :  4\n",
      "Rionegro Águilas Doradas :  1\n",
      "*  https://www.sofascore.com/deportivo-la-equidad-atletico-bucaramanga/dxcsAOc#11435109\n",
      "Atlético Bucaramanga :  1\n",
      "Deportivo La Equidad :  2\n",
      "*  https://www.sofascore.com/deportivo-la-equidad-millonarios/rxcsAOc#11783467\n",
      "Deportivo La Equidad :  1\n",
      "Millonarios :  0\n",
      "[3, 3, 4, 2, 1]\n",
      "promedio:  2.6\n",
      "minimo: 1\n",
      "maxmimo: 4\n"
     ]
    }
   ],
   "source": [
    "#funcion para calcular los partidos\n",
    "def calcular_esquinas(arr_links,equipo):\n",
    "    esquinas = []\n",
    "\n",
    "    for links in arr_links:\n",
    "        scrap_corners(links, 6, equipo, esquinas)\n",
    "\n",
    "    suma_esquinas = 0\n",
    "    print(esquinas)\n",
    "\n",
    "    for valor in esquinas:\n",
    "       suma_esquinas += valor\n",
    "\n",
    "    promedio = suma_esquinas/ len(esquinas)\n",
    "\n",
    "    print(\"promedio: \", promedio)\n",
    "    print(\"minimo:\", min(esquinas))\n",
    "    print(\"maxmimo:\", max(esquinas))\n",
    "\n",
    "\n",
    "links_equipo_1 = [\"https://www.sofascore.com/independiente-santa-fe-deportes-tolima/lxcsqxc#id:11435080\",\n",
    "                  \"https://www.sofascore.com/millonarios-independiente-santa-fe/qxcsrxc#id:11435086\",\n",
    "                  \"https://www.sofascore.com/independiente-santa-fe-atletico-huila/excsqxc#id:11748904\",\n",
    "                  \"https://www.sofascore.com/once-caldas-independiente-santa-fe/qxcstxc#id:11783345\",\n",
    "                  \"https://www.sofascore.com/independiente-santa-fe-envigado-fc/oxcsqxc#id:11920629\"\n",
    "                  ]\n",
    "\n",
    "calcular_esquinas(links_equipo_1,\"Independiente Santa Fe\")\n",
    "   \n",
    "links_equipo_2 = [\"https://www.sofascore.com/deportivo-la-equidad-deportivo-pasto/nxcsAOc#id:11435042\",\n",
    "                  \"https://www.sofascore.com/deportivo-la-equidad-deportivo-pereira/jxcsAOc#id:11435070\",\n",
    "                  \"https://www.sofascore.com/rionegro-aguilas-doradas-deportivo-la-equidad/AOcsUou#id:11435084\",\n",
    "                  \"https://www.sofascore.com/deportivo-la-equidad-atletico-bucaramanga/dxcsAOc#id:11435109\",\n",
    "                  \"https://www.sofascore.com/deportivo-la-equidad-millonarios/rxcsAOc#id:11783467\"\n",
    "                  ]\n",
    "\n",
    "calcular_esquinas(links_equipo_2,\"Deportivo La Equidad\")"
   ]
  }
 ],
 "metadata": {
  "kernelspec": {
   "display_name": "Python 3 (ipykernel)",
   "language": "python",
   "name": "python3"
  },
  "language_info": {
   "codemirror_mode": {
    "name": "ipython",
    "version": 3
   },
   "file_extension": ".py",
   "mimetype": "text/x-python",
   "name": "python",
   "nbconvert_exporter": "python",
   "pygments_lexer": "ipython3",
   "version": "3.12.1"
  }
 },
 "nbformat": 4,
 "nbformat_minor": 5
}
